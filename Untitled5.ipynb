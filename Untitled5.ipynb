{
  "nbformat": 4,
  "nbformat_minor": 0,
  "metadata": {
    "colab": {
      "provenance": [],
      "authorship_tag": "ABX9TyNzpYAoIBqTKFdF50cQlRmf",
      "include_colab_link": true
    },
    "kernelspec": {
      "name": "python3",
      "display_name": "Python 3"
    },
    "language_info": {
      "name": "python"
    }
  },
  "cells": [
    {
      "cell_type": "markdown",
      "metadata": {
        "id": "view-in-github",
        "colab_type": "text"
      },
      "source": [
        "<a href=\"https://colab.research.google.com/github/AbhilaSh-30/Collab/blob/main/Untitled5.ipynb\" target=\"_parent\"><img src=\"https://colab.research.google.com/assets/colab-badge.svg\" alt=\"Open In Colab\"/></a>"
      ]
    },
    {
      "cell_type": "code",
      "execution_count": null,
      "metadata": {
        "id": "LV2J4JWHXJej"
      },
      "outputs": [],
      "source": [
        "import math\n",
        "\n",
        "def read_file(file_path):\n",
        "  with open(file_path,'r') as file:\n",
        "    lines = file.readlines()\n",
        "    waferDiameter = float(lines[0].split(':')[1].strip())\n",
        "    die_size = tuple(map(int,lines[1].split(':')[1].strip().split('x')))\n",
        "    shift = tuple(map(float,lines[2].split(':')[1].strip().strip(\"()\").split(',')))\n",
        "    ref = tuple(map(float,lines[3].split(':')[1].strip().strip(\"()\").split(',')))\n",
        "  return waferDiameter,die_size,shift,ref"
      ]
    },
    {
      "cell_type": "code",
      "source": [
        "def llc(waferDiameter,die_size,shift,ref):\n",
        "  die_size_x,die_size_y = die_size\n",
        "  shift_x,shift_y = shift\n",
        "  ref ="
      ],
      "metadata": {
        "id": "gJ_OfYvAp0Mf"
      },
      "execution_count": null,
      "outputs": []
    },
    {
      "cell_type": "code",
      "source": [
        "waferDiameter,die_size,shift,ref = read_file(\"/content/Testcase1.txt\")\n",
        "print(ref)"
      ],
      "metadata": {
        "colab": {
          "base_uri": "https://localhost:8080/"
        },
        "id": "H7juhkEcpOfj",
        "outputId": "5a25b1d7-6841-45e0-be9d-72781b65108f"
      },
      "execution_count": null,
      "outputs": [
        {
          "output_type": "stream",
          "name": "stdout",
          "text": [
            "(15.0, 15.0)\n"
          ]
        }
      ]
    }
  ]
}